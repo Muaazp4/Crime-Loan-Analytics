{
  "nbformat": 4,
  "nbformat_minor": 0,
  "metadata": {
    "colab": {
      "provenance": []
    },
    "kernelspec": {
      "name": "python3",
      "display_name": "Python 3"
    },
    "language_info": {
      "name": "python"
    }
  },
  "cells": [
    {
      "cell_type": "code",
      "execution_count": null,
      "metadata": {
        "id": "063yhuB1whja",
        "colab": {
          "base_uri": "https://localhost:8080/"
        },
        "outputId": "7dc7ffde-ccab-4378-d4ac-89c4b1d401cf"
      },
      "outputs": [
        {
          "output_type": "stream",
          "name": "stdout",
          "text": [
            "Collecting pyspark==3.2\n",
            "  Downloading pyspark-3.2.0.tar.gz (281.3 MB)\n",
            "\u001b[2K     \u001b[90m━━━━━━━━━━━━━━━━━━━━━━━━━━━━━━━━━━━━━━━━\u001b[0m \u001b[32m281.3/281.3 MB\u001b[0m \u001b[31m4.0 MB/s\u001b[0m eta \u001b[36m0:00:00\u001b[0m\n",
            "\u001b[?25h  Preparing metadata (setup.py) ... \u001b[?25l\u001b[?25hdone\n",
            "Collecting py4j==0.10.9.2 (from pyspark==3.2)\n",
            "  Downloading py4j-0.10.9.2-py2.py3-none-any.whl.metadata (1.3 kB)\n",
            "Downloading py4j-0.10.9.2-py2.py3-none-any.whl (198 kB)\n",
            "\u001b[2K   \u001b[90m━━━━━━━━━━━━━━━━━━━━━━━━━━━━━━━━━━━━━━━━\u001b[0m \u001b[32m198.8/198.8 kB\u001b[0m \u001b[31m15.0 MB/s\u001b[0m eta \u001b[36m0:00:00\u001b[0m\n",
            "\u001b[?25hBuilding wheels for collected packages: pyspark\n",
            "  Building wheel for pyspark (setup.py) ... \u001b[?25l\u001b[?25hdone\n",
            "  Created wheel for pyspark: filename=pyspark-3.2.0-py2.py3-none-any.whl size=281805891 sha256=4e3f372e9aef8f4d8cc4c1fcf407216e88502cf0133816dee5755ce80aba3f81\n",
            "  Stored in directory: /root/.cache/pip/wheels/32/97/d3/8b6d964c8700e4fbb561c71638a92ec55dac9be51eb5fea86d\n",
            "Successfully built pyspark\n",
            "Installing collected packages: py4j, pyspark\n",
            "  Attempting uninstall: py4j\n",
            "    Found existing installation: py4j 0.10.9.7\n",
            "    Uninstalling py4j-0.10.9.7:\n",
            "      Successfully uninstalled py4j-0.10.9.7\n",
            "  Attempting uninstall: pyspark\n",
            "    Found existing installation: pyspark 3.5.3\n",
            "    Uninstalling pyspark-3.5.3:\n",
            "      Successfully uninstalled pyspark-3.5.3\n",
            "Successfully installed py4j-0.10.9.2 pyspark-3.2.0\n"
          ]
        }
      ],
      "source": [
        "!pip install pyspark==3.2"
      ]
    },
    {
      "cell_type": "code",
      "source": [
        "from pyspark.sql.functions import col, input_file_name, when, count\n",
        "from pyspark.sql import SparkSession\n",
        "from pyspark.sql import functions as F\n",
        "from pyspark.ml.feature import StringIndexer, OneHotEncoder, VectorAssembler\n",
        "from pyspark.ml import Pipeline\n",
        "from pyspark.sql.types import DoubleType\n",
        "from pyspark.ml.classification import LogisticRegression, DecisionTreeClassifier\n",
        "from pyspark.ml.evaluation import MulticlassClassificationEvaluator\n",
        "from pyspark.mllib.evaluation import MulticlassMetrics\n",
        "from google.colab import drive\n",
        "import pandas as pd\n",
        "import matplotlib.pyplot as plt\n",
        "import seaborn as sns\n",
        "import numpy as np\n"
      ],
      "metadata": {
        "id": "bVFspcK7h6XX"
      },
      "execution_count": 10,
      "outputs": []
    },
    {
      "cell_type": "code",
      "source": [
        "drive.mount('/content/drive')"
      ],
      "metadata": {
        "id": "qAIaV9ZwiPgw",
        "colab": {
          "base_uri": "https://localhost:8080/"
        },
        "outputId": "aeed273e-ec2a-443c-a15b-a1a79c7f92e1"
      },
      "execution_count": 4,
      "outputs": [
        {
          "output_type": "stream",
          "name": "stdout",
          "text": [
            "Mounted at /content/drive\n"
          ]
        }
      ]
    },
    {
      "cell_type": "markdown",
      "source": [
        "Task 1: Data Preprocessing (10%)\n"
      ],
      "metadata": {
        "id": "MRnwqtlXslMy"
      }
    },
    {
      "cell_type": "code",
      "source": [
        "\n",
        "# Initialize Spark session\n",
        "spark = SparkSession.builder.appName(\"PredictingLoans\").getOrCreate()\n",
        "\n",
        "# Defines the file path pattern to load both training and test datasets\n",
        "# The wildcard * will match all CSV files in the loan dataset\n",
        "path2loan = \"/content/drive/MyDrive/set_loan/*.csv\"\n",
        "\n",
        "# Load the dataset from CSV files\n",
        "loan_records_df = spark.read.option(\"header\", \"true\").option(\"delimiter\", \",\").csv(path2loan)\n",
        "\n",
        "# Display the first 10 rows of the loaded dataset\n",
        "loan_records_df.show(10)\n",
        "\n",
        "#Print the schema to display the data types of each column\n",
        "loan_records_df.printSchema()\n"
      ],
      "metadata": {
        "id": "WCYWGNAViPw0",
        "colab": {
          "base_uri": "https://localhost:8080/"
        },
        "outputId": "df60d314-1250-4bcf-ecbc-9699a3ea1165"
      },
      "execution_count": 8,
      "outputs": [
        {
          "output_type": "stream",
          "name": "stdout",
          "text": [
            "+--------+------+-------+----------+------------+-------------+---------------+-----------------+----------+----------------+--------------+-------------+-----------+\n",
            "| Loan_ID|Gender|Married|Dependents|   Education|Self_Employed|ApplicantIncome|CoapplicantIncome|LoanAmount|Loan_Amount_Term|Credit_History|Property_Area|Loan_Status|\n",
            "+--------+------+-------+----------+------------+-------------+---------------+-----------------+----------+----------------+--------------+-------------+-----------+\n",
            "|LP001002|  Male|     No|         0|    Graduate|           No|           5849|                0|      null|             360|             1|        Urban|          Y|\n",
            "|LP001003|  Male|    Yes|         1|    Graduate|           No|           4583|             1508|       128|             360|             1|        Rural|          N|\n",
            "|LP001005|  Male|    Yes|         0|    Graduate|          Yes|           3000|                0|        66|             360|             1|        Urban|          Y|\n",
            "|LP001006|  Male|    Yes|         0|Not Graduate|           No|           2583|             2358|       120|             360|             1|        Urban|          Y|\n",
            "|LP001008|  Male|     No|         0|    Graduate|           No|           6000|                0|       141|             360|             1|        Urban|          Y|\n",
            "|LP001011|  Male|    Yes|         2|    Graduate|          Yes|           5417|             4196|       267|             360|             1|        Urban|          Y|\n",
            "|LP001013|  Male|    Yes|         0|Not Graduate|           No|           2333|             1516|        95|             360|             1|        Urban|          Y|\n",
            "|LP001014|  Male|    Yes|        3+|    Graduate|           No|           3036|             2504|       158|             360|             0|    Semiurban|          N|\n",
            "|LP001018|  Male|    Yes|         2|    Graduate|           No|           4006|             1526|       168|             360|             1|        Urban|          Y|\n",
            "|LP001020|  Male|    Yes|         1|    Graduate|           No|          12841|            10968|       349|             360|             1|    Semiurban|          N|\n",
            "+--------+------+-------+----------+------------+-------------+---------------+-----------------+----------+----------------+--------------+-------------+-----------+\n",
            "only showing top 10 rows\n",
            "\n",
            "root\n",
            " |-- Loan_ID: string (nullable = true)\n",
            " |-- Gender: string (nullable = true)\n",
            " |-- Married: string (nullable = true)\n",
            " |-- Dependents: string (nullable = true)\n",
            " |-- Education: string (nullable = true)\n",
            " |-- Self_Employed: string (nullable = true)\n",
            " |-- ApplicantIncome: string (nullable = true)\n",
            " |-- CoapplicantIncome: string (nullable = true)\n",
            " |-- LoanAmount: string (nullable = true)\n",
            " |-- Loan_Amount_Term: string (nullable = true)\n",
            " |-- Credit_History: string (nullable = true)\n",
            " |-- Property_Area: string (nullable = true)\n",
            " |-- Loan_Status: string (nullable = true)\n",
            "\n"
          ]
        }
      ]
    },
    {
      "cell_type": "code",
      "source": [
        "# Renaming columns to improve readability and maintain consistency\n",
        "loan_records_df = loan_records_df.withColumnRenamed('ApplicantIncome', 'Applicant_Income') \\\n",
        "                                       .withColumnRenamed('CoapplicantIncome', 'Coapplicant_Income') \\\n",
        "                                       .withColumnRenamed('LoanAmount', 'Loan_Amount')\n",
        "\n",
        "#  Convert numerical columns to the appropriate data types\n",
        "# Convert Loan_Amount and Loan_Amount_Term to DoubleType for numerical operations\n",
        "loan_records_df = loan_records_df.withColumn(\"Loan_Amount\", col(\"Loan_Amount\").cast(DoubleType()))\n",
        "loan_records_df = loan_records_df.withColumn(\"Loan_Amount_Term\", col(\"Loan_Amount_Term\").cast(DoubleType()))\n",
        "\n",
        "# Drop rows where 'Loan_Status' is missing\n",
        "loan_records_df = loan_records_df.na.drop(subset=[\"Loan_Status\"])\n",
        "\n",
        "# Fill missing values in numerical columns with the median\n",
        "# List of numerical columns to handle missing values\n",
        "numerical_columns = [\"Loan_Amount\", \"Loan_Amount_Term\"]\n",
        "\n",
        "for column in numerical_columns:\n",
        "    # Calculate median for each numerical column\n",
        "    median_value = loan_records_df.approxQuantile(column, [0.5], 0)[0]\n",
        "    # Fill missing values in the column with the calculated median\n",
        "    loan_records_df = loan_records_df.fillna({column: median_value})\n",
        "\n",
        "# Define categorical columns to fill missing values with the mode\n",
        "# List of categorical columns (including 'Credit_History') to handle missing values\n",
        "categorical_columns = [\"Gender\", \"Married\", \"Dependents\", \"Self_Employed\", \"Credit_History\"]\n",
        "\n",
        "for column in categorical_columns:\n",
        "    # Calculate the mode for each categorical column\n",
        "    mode_value = loan_records_df.groupBy(column).count().orderBy(\"count\", ascending=False).first()[0]\n",
        "    # Fill missing values in the column with the calculated mode\n",
        "    loan_records_df = loan_records_df.fillna({column: mode_value})\n",
        "\n",
        "# Check for missing values across all columns\n",
        "# Display the count of missing values (nulls) for each column to show that all missing values have been handled\n",
        "loan_records_df.select(\n",
        "    [count(when(col(c).isNull(), c)).alias(c) for c in loan_records_df.columns]\n",
        ").show()\n"
      ],
      "metadata": {
        "colab": {
          "base_uri": "https://localhost:8080/"
        },
        "id": "-7-XhjdsjjST",
        "outputId": "4c24e4a4-4e2f-4477-d392-46952afab8f1"
      },
      "execution_count": 11,
      "outputs": [
        {
          "output_type": "stream",
          "name": "stdout",
          "text": [
            "+-------+------+-------+----------+---------+-------------+----------------+------------------+-----------+----------------+--------------+-------------+-----------+\n",
            "|Loan_ID|Gender|Married|Dependents|Education|Self_Employed|Applicant_Income|Coapplicant_Income|Loan_Amount|Loan_Amount_Term|Credit_History|Property_Area|Loan_Status|\n",
            "+-------+------+-------+----------+---------+-------------+----------------+------------------+-----------+----------------+--------------+-------------+-----------+\n",
            "|      0|     0|      0|         0|        0|            0|               0|                 0|          0|               0|             0|            0|          0|\n",
            "+-------+------+-------+----------+---------+-------------+----------------+------------------+-----------+----------------+--------------+-------------+-----------+\n",
            "\n"
          ]
        }
      ]
    },
    {
      "cell_type": "code",
      "source": [
        "# Columns to encode\n",
        "# List of categorical columns that need to be encoded\n",
        "categorical_columns = [\"Gender\", \"Married\", \"Dependents\", \"Education\", \"Self_Employed\", \"Property_Area\", \"Loan_Status\"]\n",
        "\n",
        "# Create StringIndexer transformations for categorical columns\n",
        "# StringIndexer assigns an integer index to each category in a column\n",
        "indexers = [StringIndexer(inputCol=col, outputCol=f\"{col}_Index\").setHandleInvalid(\"skip\") for col in categorical_columns]\n",
        "\n",
        "# OneHotEncode the \"Property_Area\" column\n",
        "# OneHotEncoder converts the indexed values to one-hot encoded vectors\n",
        "encoders = [OneHotEncoder(inputCol=\"Property_Area_Index\", outputCol=\"Property_Area_Vec\")]\n",
        "\n",
        "# Build the pipeline\n",
        "# The pipeline is a sequence of transformations that will be applied in order\n",
        "pipeline = Pipeline(stages=indexers + encoders)\n",
        "\n",
        "# Apply the pipeline transformations to the dataset\n",
        "loan_records_df = pipeline.fit(loan_records_df).transform(loan_records_df)\n",
        "\n",
        "# Display a few rows to show that the columns have been encoded correctly\n",
        "loan_records_df.select(\n",
        "    \"Gender_Index\", \"Married_Index\", \"Dependents_Index\",\n",
        "    \"Education_Index\", \"Self_Employed_Index\",\n",
        "    \"Property_Area_Vec\", \"Loan_Status_Index\"\n",
        ").show(5)"
      ],
      "metadata": {
        "colab": {
          "base_uri": "https://localhost:8080/"
        },
        "id": "JW2n8S-urFK2",
        "outputId": "d9910b38-4784-4beb-fee8-275b9dd89eaf"
      },
      "execution_count": 12,
      "outputs": [
        {
          "output_type": "stream",
          "name": "stdout",
          "text": [
            "+------------+-------------+----------------+---------------+-------------------+-----------------+-----------------+\n",
            "|Gender_Index|Married_Index|Dependents_Index|Education_Index|Self_Employed_Index|Property_Area_Vec|Loan_Status_Index|\n",
            "+------------+-------------+----------------+---------------+-------------------+-----------------+-----------------+\n",
            "|         0.0|          1.0|             0.0|            0.0|                0.0|    (2,[1],[1.0])|              0.0|\n",
            "|         0.0|          0.0|             1.0|            0.0|                0.0|        (2,[],[])|              1.0|\n",
            "|         0.0|          0.0|             0.0|            0.0|                1.0|    (2,[1],[1.0])|              0.0|\n",
            "|         0.0|          0.0|             0.0|            1.0|                0.0|    (2,[1],[1.0])|              0.0|\n",
            "|         0.0|          1.0|             0.0|            0.0|                0.0|    (2,[1],[1.0])|              0.0|\n",
            "+------------+-------------+----------------+---------------+-------------------+-----------------+-----------------+\n",
            "only showing top 5 rows\n",
            "\n"
          ]
        }
      ]
    },
    {
      "cell_type": "code",
      "source": [
        "# Convert necessary columns to DoubleType\n",
        "# Converting Applicant_Income, Coapplicant_Income, and Credit_History to numeric type (DoubleType)\n",
        "loan_records_df = loan_records_df.withColumn(\"Applicant_Income\", col(\"Applicant_Income\").cast(DoubleType())) \\\n",
        "                                       .withColumn(\"Coapplicant_Income\", col(\"Coapplicant_Income\").cast(DoubleType())) \\\n",
        "                                       .withColumn(\"Credit_History\", col(\"Credit_History\").cast(DoubleType()))\n",
        "\n",
        "# Show the schema to ensure the columns are of type Double\n",
        "loan_records_df.printSchema()\n",
        "\n",
        "# Split the dataset into training (70%) and testing (30%) sets\n",
        "# Randomly split the data into training and test sets with a 70/30 split ratio\n",
        "training_data, test_data = loan_records_df.randomSplit([0.7, 0.3], seed=42)\n",
        "\n",
        "# Define input features for the model\n",
        "# Excluding 'Loan_Status' and original categorical columns; including only transformed feature columns\n",
        "feature_columns = [\"Gender_Index\", \"Married_Index\", \"Dependents_Index\",\n",
        "                   \"Education_Index\", \"Self_Employed_Index\", \"Applicant_Income\",\n",
        "                   \"Coapplicant_Income\", \"Loan_Amount\", \"Loan_Amount_Term\",\n",
        "                   \"Credit_History\", \"Property_Area_Vec\"]\n",
        "\n",
        "# Use VectorAssembler to combine feature columns into a single feature vector\n",
        "# VectorAssembler is used to create a single vector of features for each row\n",
        "assembler = VectorAssembler(inputCols=feature_columns, outputCol=\"features\")\n",
        "\n",
        "# Apply VectorAssembler transformation to the training and test datasets\n",
        "# Transform both the training and test datasets to add a 'features' column\n",
        "training_data = assembler.transform(training_data).select(\"features\", \"Loan_Status_Index\")\n",
        "test_data = assembler.transform(test_data).select(\"features\", \"Loan_Status_Index\")\n",
        "\n",
        "# Show a few rows of the transformed training data with the 'features' column\n",
        "print(\"Transformed Training Data:\")\n",
        "training_data.show(5)\n",
        "\n",
        "# Show a few rows of the transformed test data with the 'features' column\n",
        "print(\"Transformed Test Data:\")\n",
        "test_data.show(5)\n"
      ],
      "metadata": {
        "colab": {
          "base_uri": "https://localhost:8080/"
        },
        "id": "qbmOWJtdrV1U",
        "outputId": "560d9832-07a8-4e87-d67b-6dc72024ccab"
      },
      "execution_count": 13,
      "outputs": [
        {
          "output_type": "stream",
          "name": "stdout",
          "text": [
            "root\n",
            " |-- Loan_ID: string (nullable = true)\n",
            " |-- Gender: string (nullable = false)\n",
            " |-- Married: string (nullable = false)\n",
            " |-- Dependents: string (nullable = false)\n",
            " |-- Education: string (nullable = true)\n",
            " |-- Self_Employed: string (nullable = false)\n",
            " |-- Applicant_Income: double (nullable = true)\n",
            " |-- Coapplicant_Income: double (nullable = true)\n",
            " |-- Loan_Amount: double (nullable = false)\n",
            " |-- Loan_Amount_Term: double (nullable = false)\n",
            " |-- Credit_History: double (nullable = true)\n",
            " |-- Property_Area: string (nullable = true)\n",
            " |-- Loan_Status: string (nullable = true)\n",
            " |-- Gender_Index: double (nullable = false)\n",
            " |-- Married_Index: double (nullable = false)\n",
            " |-- Dependents_Index: double (nullable = false)\n",
            " |-- Education_Index: double (nullable = false)\n",
            " |-- Self_Employed_Index: double (nullable = false)\n",
            " |-- Property_Area_Index: double (nullable = false)\n",
            " |-- Loan_Status_Index: double (nullable = false)\n",
            " |-- Property_Area_Vec: vector (nullable = true)\n",
            "\n",
            "Transformed Training Data:\n",
            "+--------------------+-----------------+\n",
            "|            features|Loan_Status_Index|\n",
            "+--------------------+-----------------+\n",
            "|(12,[1,5,7,8,9,11...|              0.0|\n",
            "|(12,[2,5,6,7,8,9]...|              1.0|\n",
            "|[0.0,0.0,0.0,1.0,...|              0.0|\n",
            "|(12,[1,5,7,8,9,11...|              0.0|\n",
            "|[0.0,0.0,2.0,0.0,...|              0.0|\n",
            "+--------------------+-----------------+\n",
            "only showing top 5 rows\n",
            "\n",
            "Transformed Test Data:\n",
            "+--------------------+-----------------+\n",
            "|            features|Loan_Status_Index|\n",
            "+--------------------+-----------------+\n",
            "|(12,[4,5,7,8,9,11...|              0.0|\n",
            "|[0.0,0.0,0.0,1.0,...|              0.0|\n",
            "|[0.0,0.0,2.0,0.0,...|              0.0|\n",
            "|[0.0,0.0,1.0,0.0,...|              1.0|\n",
            "|(12,[1,5,6,7,8,9]...|              1.0|\n",
            "+--------------------+-----------------+\n",
            "only showing top 5 rows\n",
            "\n"
          ]
        }
      ]
    },
    {
      "cell_type": "markdown",
      "source": [
        "Task 2: Apply Classification Algorithms (30%)"
      ],
      "metadata": {
        "id": "Qdhcukk4srMb"
      }
    },
    {
      "cell_type": "code",
      "source": [
        "\n",
        "# Train the Decision Tree Classifier\n",
        "# Initialize the Decision Tree model with label and feature columns\n",
        "dt = DecisionTreeClassifier(labelCol=\"Loan_Status_Index\", featuresCol=\"features\")\n",
        "\n",
        "# Fit the Decision Tree model on the training data\n",
        "dt_model = dt.fit(training_data)\n",
        "\n",
        "# Make predictions using the trained Decision Tree model\n",
        "# Apply the trained model to the test dataset\n",
        "dt_predictions = dt_model.transform(test_data)\n",
        "\n",
        "# Evaluating the model's performance\n",
        "# Initialize the evaluator for multi-class classification\n",
        "evaluator = MulticlassClassificationEvaluator(labelCol=\"Loan_Status_Index\", predictionCol=\"prediction\")\n",
        "\n",
        "# Calculating accuracy, precision, and recall for the model\n",
        "dt_accuracy = evaluator.evaluate(dt_predictions, {evaluator.metricName: \"accuracy\"})\n",
        "dt_precision = evaluator.evaluate(dt_predictions, {evaluator.metricName: \"weightedPrecision\"})\n",
        "dt_recall = evaluator.evaluate(dt_predictions, {evaluator.metricName: \"weightedRecall\"})\n",
        "\n",
        "# Show the model's metrics\n",
        "print(\"Decision Tree Model Metrics:\")\n",
        "print(f\"Accuracy: {dt_accuracy:.4f}\")\n",
        "print(f\"Precision: {dt_precision:.4f}\")\n",
        "print(f\"Recall: {dt_recall:.4f}\")\n",
        "\n",
        "# Confusion Matrix for the Decision Tree model\n",
        "# Convert the predictions and labels to an RDD\n",
        "dt_preds_and_labels = dt_predictions.select(\"prediction\", \"Loan_Status_Index\").rdd\n",
        "\n",
        "# Initialize MulticlassMetrics to compute confusion matrix\n",
        "dt_metrics = MulticlassMetrics(dt_preds_and_labels)\n",
        "\n",
        "# Get the confusion matrix as a NumPy array\n",
        "dt_confusion_matrix = dt_metrics.confusionMatrix().toArray()\n",
        "\n",
        "# Plot the Confusion Matrix\n",
        "# Set up the figure for the confusion matrix plot\n",
        "plt.figure(figsize=(7, 6))\n",
        "\n",
        "# Use heatmap to visualize the confusion matrix\n",
        "sns.heatmap(dt_confusion_matrix, annot=True, fmt=\".0f\", cmap=\"Blues\")\n",
        "\n",
        "# Add title and axis labels\n",
        "plt.title(\"Confusion Matrix: Decision Tree\")\n",
        "plt.xlabel(\"Predicted\")\n",
        "plt.ylabel(\"True\")\n",
        "\n",
        "# Show the plot\n",
        "plt.show()\n"
      ],
      "metadata": {
        "colab": {
          "base_uri": "https://localhost:8080/",
          "height": 514
        },
        "id": "a9K9-O-FsLoE",
        "outputId": "21dbeee9-6559-43e7-8344-ba6f3ad5106a"
      },
      "execution_count": 14,
      "outputs": [
        {
          "output_type": "stream",
          "name": "stdout",
          "text": [
            "Decision Tree Model Metrics:\n",
            "Accuracy: 0.7468\n",
            "Precision: 0.7740\n",
            "Recall: 0.7468\n"
          ]
        },
        {
          "output_type": "stream",
          "name": "stderr",
          "text": [
            "/usr/local/lib/python3.10/dist-packages/pyspark/sql/context.py:125: FutureWarning: Deprecated in 3.0.0. Use SparkSession.builder.getOrCreate() instead.\n",
            "  warnings.warn(\n"
          ]
        },
        {
          "output_type": "display_data",
          "data": {
            "text/plain": [
              "<Figure size 500x400 with 2 Axes>"
            ],
            "image/png": "[encoded data removed]"
          },
          "metadata": {}
        }
      ]
    },
    {
      "cell_type": "code",
      "source": [
        "# Train the Logistic Regression model\n",
        "# Initialize the Logistic Regression model with label and feature columns\n",
        "lr = LogisticRegression(labelCol=\"Loan_Status_Index\", featuresCol=\"features\")\n",
        "\n",
        "# Fit the Logistic Regression model on the training data\n",
        "lr_model = lr.fit(training_data)\n",
        "\n",
        "# Make predictions using the trained Logistic Regression model\n",
        "# Apply the trained model to the test dataset\n",
        "lr_predictions = lr_model.transform(test_data)\n",
        "\n",
        "# Evaluate the model's performance\n",
        "# Initialize the evaluator for multi-class classification\n",
        "evaluator = MulticlassClassificationEvaluator(labelCol=\"Loan_Status_Index\", predictionCol=\"prediction\")\n",
        "\n",
        "# Calculate accuracy, precision, and recall for the Logistic Regression model\n",
        "lr_accuracy = evaluator.evaluate(lr_predictions, {evaluator.metricName: \"accuracy\"})\n",
        "lr_precision = evaluator.evaluate(lr_predictions, {evaluator.metricName: \"weightedPrecision\"})\n",
        "lr_recall = evaluator.evaluate(lr_predictions, {evaluator.metricName: \"weightedRecall\"})\n",
        "\n",
        "# Show the model's metrics\n",
        "print(\"Logistic Regression Model Metrics:\")\n",
        "print(f\"Accuracy: {lr_accuracy:.4f}\")\n",
        "print(f\"Precision: {lr_precision:.4f}\")\n",
        "print(f\"Recall: {lr_recall:.4f}\")\n",
        "\n",
        "# Confusion Matrix for the Logistic Regression model\n",
        "# Convert the predictions and labels to an RDD\n",
        "lr_preds_and_labels = lr_predictions.select(\"prediction\", \"Loan_Status_Index\").rdd\n",
        "\n",
        "# Initialize MulticlassMetrics to compute the confusion matrix\n",
        "lr_metrics = MulticlassMetrics(lr_preds_and_labels)\n",
        "\n",
        "# Get the confusion matrix as a NumPy array\n",
        "lr_confusion_matrix = lr_metrics.confusionMatrix().toArray()\n",
        "\n",
        "# Plot the Confusion Matrix\n",
        "# Set up the figure for the confusion matrix plot\n",
        "plt.figure(figsize=(7, 6))\n",
        "\n",
        "# Use heatmap to visualize the confusion matrix\n",
        "sns.heatmap(lr_confusion_matrix, annot=True, fmt=\".0f\", cmap=\"Greens\")\n",
        "\n",
        "# Add title and axis labels\n",
        "plt.title(\"Confusion Matrix: Logistic Regression\")\n",
        "plt.xlabel(\"Predicted\")\n",
        "plt.ylabel(\"True\")\n",
        "\n",
        "# Show the plot\n",
        "plt.show()"
      ],
      "metadata": {
        "colab": {
          "base_uri": "https://localhost:8080/",
          "height": 514
        },
        "id": "j1QFTxhxs_WV",
        "outputId": "5fd3adaa-d5ee-4677-f5b4-ca5d4eeba74d"
      },
      "execution_count": 15,
      "outputs": [
        {
          "output_type": "stream",
          "name": "stdout",
          "text": [
            "Logistic Regression Model Metrics:\n",
            "Accuracy: 0.7532\n",
            "Precision: 0.8234\n",
            "Recall: 0.7532\n"
          ]
        },
        {
          "output_type": "stream",
          "name": "stderr",
          "text": [
            "/usr/local/lib/python3.10/dist-packages/pyspark/sql/context.py:125: FutureWarning: Deprecated in 3.0.0. Use SparkSession.builder.getOrCreate() instead.\n",
            "  warnings.warn(\n"
          ]
        },
        {
          "output_type": "display_data",
          "data": {
            "text/plain": [
              "<Figure size 500x400 with 2 Axes>"
            ],
            "image/png": "[encoded data removed]"
          },
          "metadata": {}
        }
      ]
    },
    {
      "cell_type": "markdown",
      "source": [
        "Task 3: Model Comparison (10%)"
      ],
      "metadata": {
        "id": "_lNiSexHswqk"
      }
    },
    {
      "cell_type": "code",
      "source": [
        "#Heatmaps + Model comparsion table\n",
        "\n",
        "# Train Decision Tree model\n",
        "dt = DecisionTreeClassifier(labelCol=\"Loan_Status_Index\", featuresCol=\"features\")\n",
        "dt_model = dt.fit(training_data)\n",
        "\n",
        "# Make predictions with Decision Tree\n",
        "dt_predictions = dt_model.transform(test_data)\n",
        "\n",
        "# Initialize evaluator\n",
        "evaluator = MulticlassClassificationEvaluator(labelCol=\"Loan_Status_Index\", predictionCol=\"prediction\")\n",
        "\n",
        "# Calculate metrics for Decision Tree\n",
        "dt_accuracy = evaluator.evaluate(dt_predictions, {evaluator.metricName: \"accuracy\"})\n",
        "dt_precision = evaluator.evaluate(dt_predictions, {evaluator.metricName: \"weightedPrecision\"})\n",
        "dt_recall = evaluator.evaluate(dt_predictions, {evaluator.metricName: \"weightedRecall\"})\n",
        "\n",
        "\n",
        "# Train Logistic Regression model\n",
        "lr = LogisticRegression(labelCol=\"Loan_Status_Index\", featuresCol=\"features\")\n",
        "lr_model = lr.fit(training_data)\n",
        "\n",
        "# Make predictions with Logistic Regression\n",
        "lr_predictions = lr_model.transform(test_data)\n",
        "\n",
        "# Calculate metrics for Logistic Regression\n",
        "lr_accuracy = evaluator.evaluate(lr_predictions, {evaluator.metricName: \"accuracy\"})\n",
        "lr_precision = evaluator.evaluate(lr_predictions, {evaluator.metricName: \"weightedPrecision\"})\n",
        "lr_recall = evaluator.evaluate(lr_predictions, {evaluator.metricName: \"weightedRecall\"})\n",
        "\n",
        "\n",
        "# Combine the metrics for both models\n",
        "metrics_data = {\n",
        "    \"Model\": [\"Decision Tree\", \"Logistic Regression\"],\n",
        "    \"Accuracy\": [dt_accuracy, lr_accuracy],\n",
        "    \"Precision\": [dt_precision, lr_precision],\n",
        "    \"Recall\": [dt_recall, lr_recall]\n",
        "}\n",
        "\n",
        "# Convert metrics to a DataFrame for display\n",
        "metrics_df = pd.DataFrame(metrics_data)\n",
        "metrics_df = metrics_df.set_index(\"Model\")\n",
        "\n",
        "# Display the model comparison table (accuracy, precision, recall)\n",
        "print(\"Model Comparison Table Metrics (Accuracy, Precision, Recall):\")\n",
        "print(metrics_df.to_markdown(index=True))\n",
        "\n",
        "\n",
        "# Confusion Matrix for Decision Tree\n",
        "dt_preds_and_labels = dt_predictions.select(\"prediction\", \"Loan_Status_Index\").rdd\n",
        "dt_metrics = MulticlassMetrics(dt_preds_and_labels)\n",
        "dt_confusion_matrix = dt_metrics.confusionMatrix().toArray()\n",
        "\n",
        "# Confusion Matrix for Logistic Regression\n",
        "lr_preds_and_labels = lr_predictions.select(\"prediction\", \"Loan_Status_Index\").rdd\n",
        "lr_metrics = MulticlassMetrics(lr_preds_and_labels)\n",
        "lr_confusion_matrix = lr_metrics.confusionMatrix().toArray()\n",
        "\n",
        "# Plot Decision Tree Confusion Matrix\n",
        "plt.figure(figsize=(7, 6))\n",
        "sns.heatmap(dt_confusion_matrix, annot=True, fmt=\".0f\", cmap=\"Blues\")\n",
        "plt.title(\"Confusion Matrix: Decision Tree\")\n",
        "plt.xlabel(\"Predicted\")\n",
        "plt.ylabel(\"True\")\n",
        "plt.show()\n",
        "\n",
        "# Plot Logistic Regression Confusion Matrix\n",
        "plt.figure(figsize=(7, 6))\n",
        "sns.heatmap(lr_confusion_matrix, annot=True, fmt=\".0f\", cmap=\"Greens\")\n",
        "plt.title(\"Confusion Matrix: Logistic Regression\")\n",
        "plt.xlabel(\"Predicted\")\n",
        "plt.ylabel(\"True\")\n",
        "plt.show()"
      ],
      "metadata": {
        "colab": {
          "base_uri": "https://localhost:8080/",
          "height": 1000
        },
        "id": "got8jc01uHL9",
        "outputId": "13c1e58f-9d32-4bc9-92f3-b4bde014f46a"
      },
      "execution_count": 17,
      "outputs": [
        {
          "output_type": "stream",
          "name": "stdout",
          "text": [
            "Model Comparison Table Metrics (Accuracy, Precision, Recall):\n",
            "| Model               |   Accuracy |   Precision |   Recall |\n",
            "|:--------------------|-----------:|------------:|---------:|\n",
            "| Decision Tree       |   0.746835 |    0.773988 | 0.746835 |\n",
            "| Logistic Regression |   0.753165 |    0.823432 | 0.753165 |\n"
          ]
        },
        {
          "output_type": "stream",
          "name": "stderr",
          "text": [
            "/usr/local/lib/python3.10/dist-packages/pyspark/sql/context.py:125: FutureWarning: Deprecated in 3.0.0. Use SparkSession.builder.getOrCreate() instead.\n",
            "  warnings.warn(\n"
          ]
        },
        {
          "output_type": "display_data",
          "data": {
            "text/plain": [
              "<Figure size 700x600 with 2 Axes>"
            ],
            "image/png": "[encoded data removed]"
          },
          "metadata": {}
        },
        {
          "output_type": "display_data",
          "data": {
            "text/plain": [
              "<Figure size 700x600 with 2 Axes>"
            ],
            "image/png": "[encoded data removed]"
          },
          "metadata": {}
        }
      ]
    }
  ]
}